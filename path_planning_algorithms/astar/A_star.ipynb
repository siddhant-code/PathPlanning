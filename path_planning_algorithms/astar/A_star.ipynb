{
  "nbformat": 4,
  "nbformat_minor": 0,
  "metadata": {
    "colab": {
      "provenance": []
    },
    "kernelspec": {
      "name": "python3",
      "display_name": "Python 3"
    },
    "language_info": {
      "name": "python"
    }
  },
  "cells": [
    {
      "cell_type": "code",
      "execution_count": null,
      "metadata": {
        "id": "Wp0tbuVNTF0C"
      },
      "outputs": [],
      "source": [
        "import numpy as np\n",
        "import matplotlib.pyplot as plt\n",
        "import sympy\n",
        "from sympy import symbols\n",
        "from itertools import pairwise\n",
        "import math\n",
        "from queue import PriorityQueue\n",
        "from moviepy.editor import ImageSequenceClip\n",
        "import time\n",
        "import cv2"
      ]
    },
    {
      "cell_type": "code",
      "source": [
        "# Defining constant values and colors\n",
        "height = 50\n",
        "width = 180\n",
        "linear_threshold = 0.5\n",
        "angular_threshold = 30\n",
        "clearance = 2\n",
        "BACKGROUND_COLOR = (232,215,241)\n",
        "OBSTACLE_COLOR = (74,48,109)\n",
        "PATH_COLOR =  (255, 192, 203)\n",
        "CLOSED_NODE_COLOR = (161,103,165)\n",
        "OPEN_NODE_COLOR = (56,36,66)\n",
        "INITIAL_NODE_COLOR = (173,48,0)\n",
        "GOAL_NODE_COLOR = (0,255,0)\n",
        "WALL_COLOR = (0,49,83)"
      ],
      "metadata": {
        "id": "2x5FC-HMWIIG"
      },
      "execution_count": null,
      "outputs": []
    },
    {
      "cell_type": "code",
      "source": [
        "# Defining symbols\n",
        "x,y,z,a,b,r = symbols(\"x,y,z,a,b,r\")"
      ],
      "metadata": {
        "id": "obbJk9dk22F9"
      },
      "execution_count": null,
      "outputs": []
    },
    {
      "cell_type": "code",
      "source": [
        "# class to define lines\n",
        "class Line():\n",
        "  def __init__(self,equation,symbol) -> None:\n",
        "    self.equation = equation\n",
        "    self.symbol = symbol\n",
        "\n",
        "  # Function to check point lies on correct side of line\n",
        "  def check(self,point):\n",
        "    point = {x:point[0],y:point[1]}\n",
        "    value = self.equation.xreplace(point)\n",
        "    if self.symbol == \"g\":\n",
        "      return value >= 0\n",
        "    else:\n",
        "      return value < 0\n",
        "\n",
        "# class to define shape\n",
        "class Shape():\n",
        "  def __init__(self,lines) -> None:\n",
        "    self.lines = lines\n",
        "\n",
        "  #Function to add line to define shape\n",
        "  def add_line(self,line:Line):\n",
        "    self.lines.append(line)\n",
        "\n",
        "  # Function to check whether given point lies inside the shape\n",
        "  def check_point_inside_shape(self,point):\n",
        "    verdict = True\n",
        "    for line in self.lines:\n",
        "      verdict = verdict and line.check(point)\n",
        "      if not verdict:\n",
        "        break\n",
        "    return verdict\n",
        "\n",
        "# class to define shape collection by combining shapes\n",
        "class ShapeCollection():\n",
        "  def __init__(self,shapes) -> None:\n",
        "    self.shapes = shapes\n",
        "\n",
        "  # Function to add shape\n",
        "  def add_shape(self,shape:Shape):\n",
        "    self.shapes.append(shape)\n",
        "\n",
        "  # Function to check if point lies inside shape collection\n",
        "  def check_point_inside_shape_collection(self,point):\n",
        "    verdict = False\n",
        "    for shape in self.shapes:\n",
        "      verdict = verdict or shape.check_point_inside_shape(point)\n",
        "      if verdict:\n",
        "        break\n",
        "    return verdict"
      ],
      "metadata": {
        "id": "X699CDr_2EoY"
      },
      "execution_count": null,
      "outputs": []
    },
    {
      "cell_type": "code",
      "source": [
        "# def get_line_offset(line:Line,offset=clearance):\n",
        "#   sign = line.symbol\n",
        "#   constant = line.equation.xreplace({x:0,y:0})\n",
        "#   a = line.equation.coeff(x)\n",
        "#   b = line.equation.coeff(y)\n",
        "#   if sign == \"g\":\n",
        "#     new_constant = offset*math.sqrt(a**2 + b**2) + constant\n",
        "#     return Line(a*x + b*y + new_constant,sign)\n",
        "#   else:\n",
        "#     new_constant = offset*math.sqrt(a**2 + b**2) - constant\n",
        "#     return Line(a*x + b*y - new_constant,sign)\n",
        "\n",
        "def get_line_offset(line:Line):\n",
        "  sign = line.symbol\n",
        "  if sign == \"g\": # g for greater than and l for lesser than\n",
        "    equation = line.equation - clearance\n",
        "  else:\n",
        "    equation = line.equation + clearance\n",
        "  return Line(equation,sign)\n",
        "\n",
        "# Function to get rectangular shape offset by clearance\n",
        "def get_shape_offset(shape:Shape):\n",
        "  return Shape([get_line_offset(li) for li in shape.lines])"
      ],
      "metadata": {
        "id": "-CKC7W9eutKW"
      },
      "execution_count": null,
      "outputs": []
    },
    {
      "cell_type": "code",
      "source": [
        "#Border\n",
        "b1 = Line(x-0,\"g\")  # x = 0\n",
        "b2 = Line(x-clearance,\"l\") # x = 2\n",
        "\n",
        "b3 = Line(x-width+clearance,\"g\") # x = 178\n",
        "b4 = Line(x-width,\"l\") # x = 180\n",
        "\n",
        "b5 = Line(y-0,\"g\") # y = 0\n",
        "b6 = Line(y-clearance,\"l\") # y = 2\n",
        "\n",
        "b7 = Line(y-height+clearance,\"g\") # y = 48\n",
        "b8 = Line(y-height,\"l\") # y = 50\n",
        "\n",
        "# Defining border rectangles\n",
        "border1 = Shape([b1,b2,b5,b8])\n",
        "border2 = Shape([b3,b4,b5,b8])\n",
        "border3 = Shape([b5,b6,b1,b4])\n",
        "border4 = Shape([b7,b8,b1,b4])\n",
        "# Adding to shape collection\n",
        "obstacle = ShapeCollection([border1,border2,border3,border4])"
      ],
      "metadata": {
        "id": "vKPsW5HO-xtP"
      },
      "execution_count": null,
      "outputs": []
    },
    {
      "cell_type": "code",
      "source": [
        "# Defining the upper and lower lines for letters and digits\n",
        "lower_line = Line(y-10,\"g\")\n",
        "upper_line = Line(y-37,\"l\")\n",
        "wall_lower_line = get_line_offset(lower_line)\n",
        "wall_upper_line = get_line_offset(upper_line)\n",
        "\n",
        "#Letter E\n",
        "\n",
        "# Defining clearance boundary\n",
        "line1 = Line(x-20,\"g\")\n",
        "line2 = Line(x-29,\"l\")\n",
        "e_1 = Shape([line1,line2,lower_line,upper_line])\n",
        "obstacle = ShapeCollection([e_1])\n",
        "\n",
        "line3 = Line(x-37,\"l\")\n",
        "line4 = Line(x-20,\"g\")\n",
        "line5 = Line(y-28,\"g\")\n",
        "e_2 = Shape([upper_line,line3,line4,line5])\n",
        "obstacle.add_shape(e_2)\n",
        "\n",
        "line6 = Line(y - 18, \"g\")\n",
        "line7 = Line(y - 27,\"l\")\n",
        "e_3 = Shape([line3,line4,line6,line7])\n",
        "obstacle.add_shape(e_3)\n",
        "\n",
        "line8 = Line(y - 17 ,\"l\")\n",
        "e_4 = Shape([line8,lower_line,line3,line4])\n",
        "obstacle.add_shape(e_4)\n",
        "\n",
        "# Defining the letter\n",
        "e_1w = get_shape_offset(e_1)\n",
        "wall = ShapeCollection([e_1w])\n",
        "for e_w in [e_2,e_3,e_4]:\n",
        "  wall.add_shape(get_shape_offset(e_w))\n",
        "\n",
        "#Letter N\n",
        "# Defining clearance boundary\n",
        "line9 = Line(x-39,\"g\")\n",
        "line10 = Line(x-48,\"l\")\n",
        "n_1 = Shape([line9,line10,lower_line,upper_line])\n",
        "obstacle.add_shape(n_1)\n",
        "\n",
        "line11 = Line(x-61,\"l\")\n",
        "line12 = Line(x-52,\"g\")\n",
        "n_2 = Shape([line11,line12,lower_line,upper_line])\n",
        "obstacle.add_shape(n_2)\n",
        "\n",
        "line13 = Line(13*y +27*x - 1534,\"g\")\n",
        "line14 = Line(13*y +27*x - 1777,\"l\")\n",
        "n_3 = Shape([line13,line14,upper_line,lower_line])\n",
        "obstacle.add_shape(n_3)\n",
        "\n",
        "# Defining letter\n",
        "for n_w in [n_1,n_2]:\n",
        "  wall.add_shape(get_shape_offset(n_w))\n",
        "\n",
        "line13w = Line(13*y +27*x - 1594,\"g\")\n",
        "line14w = Line(13*y +27*x - 1717,\"l\")\n",
        "n_3w = Shape([line13w,line14w,wall_upper_line,wall_lower_line])\n",
        "wall.add_shape(n_3w)\n",
        "\n",
        "#Letter P\n",
        "# Defining clearance boundary\n",
        "line15 = Line(x-63,\"g\")\n",
        "line16 = Line(x-72,\"l\")\n",
        "n_4 = Shape([line15,line16,upper_line,lower_line])\n",
        "obstacle.add_shape(n_4)\n",
        "\n",
        "line17 = Line(x-70,\"g\")\n",
        "line18 = Line((x-70)**2 + (y - 29)**2 - 64,\"l\")\n",
        "n_5 = Shape([line17,line18])\n",
        "obstacle.add_shape(n_5)\n",
        "\n",
        "# Defing letter\n",
        "wall.add_shape(get_shape_offset(n_4))\n",
        "line17w = Line(x-70,\"g\")\n",
        "line18w = Line((x-70)**2 + (y - 29)**2 - 36,\"l\")\n",
        "n_5w = Shape([line17w,line18w])\n",
        "wall.add_shape(n_5w)\n",
        "\n",
        "# Letter M\n",
        "# Defining clearance boundary\n",
        "line19 = Line(x-80,\"g\")\n",
        "line20 = Line(x-89,\"l\")\n",
        "m_1 = Shape([line19,line20,upper_line,lower_line])\n",
        "obstacle.add_shape(m_1)\n",
        "\n",
        "line21 = Line(13*y + 27*x - 2641,\"g\")\n",
        "line22 = Line(13*y + 27*x - 2884,\"l\")\n",
        "m_2 = Shape([line21,line22,upper_line,lower_line])\n",
        "obstacle.add_shape(m_2)\n",
        "\n",
        "line23 = Line(13*y - 27*x + 2327,\"l\")\n",
        "line24 = Line(13*y - 27*x + 2570,\"g\")\n",
        "m_3 = Shape([line23,line24,upper_line,lower_line])\n",
        "obstacle.add_shape(m_3)\n",
        "\n",
        "line25 = Line(x-104,\"g\")\n",
        "line26 = Line(x-113,\"l\")\n",
        "m_4 = Shape([line25,line26,upper_line,lower_line])\n",
        "obstacle.add_shape(m_4)\n",
        "\n",
        "# Defining letter\n",
        "for m_w in [m_1,m_4]:\n",
        "  wall.add_shape(get_shape_offset(m_w))\n",
        "\n",
        "line21w = Line(13*y + 27*x - 2696,\"g\")\n",
        "line22w = Line(13*y + 27*x - 2831,\"l\")\n",
        "m_2w = Shape([line21w,line22w,wall_upper_line,wall_lower_line])\n",
        "wall.add_shape(m_2w)\n",
        "\n",
        "line23w = Line(13*y - 27*x + 2380,\"l\")\n",
        "line24w = Line(13*y - 27*x + 2515,\"g\")\n",
        "m_3w = Shape([line23w,line24w,wall_upper_line,wall_lower_line])\n",
        "wall.add_shape(m_3w)\n",
        "\n",
        "# Digit 6 first\n",
        "\n",
        "# Defining clearance boundary\n",
        "line27 = Line((x-126)**2+(y-21)**2-11**2,\"l\")\n",
        "s1_1 = Shape([line27])\n",
        "obstacle.add_shape(s1_1)\n",
        "line28 = Line((x - 138)**2 + (y-23)**2 - 14**2,\"g\")\n",
        "line29 = Line((x - 138)**2 + (y-23)**2 - 23**2,\"l\")\n",
        "line30 = Line(y-23,\"g\")\n",
        "line31 = Line(x-136,\"l\")\n",
        "s1_2 = Shape([line28,line29,line30,line31])\n",
        "obstacle.add_shape(s1_2)\n",
        "line32 = Line((x - 137)**2 + (y-41)**2 - 4.5**2,\"l\")\n",
        "s1_3 = Shape([line32])\n",
        "obstacle.add_shape(s1_3)\n",
        "\n",
        "# Defining digit\n",
        "line27w = Line((x-126)**2+(y-21)**2-9**2,\"l\")\n",
        "s1_1w = Shape([line27w])\n",
        "wall.add_shape(s1_1w)\n",
        "line28w = Line((x - 138)**2 + (y-23)**2 - 16**2,\"g\")\n",
        "line29w = Line((x - 138)**2 + (y-23)**2 - 21**2,\"l\")\n",
        "s1_2w = Shape([line28w,line29w,line30,line31])\n",
        "wall.add_shape(s1_2w)\n",
        "line32w = Line((x - 137)**2 + (y-41)**2 - 2.5**2,\"l\")\n",
        "s1_3w = Shape([line32w])\n",
        "wall.add_shape(s1_3w)\n",
        "\n",
        "# Digit 6 second\n",
        "# Defining clearance boundary\n",
        "line33 = Line((x-149)**2+(y-21)**2-11**2,\"l\")\n",
        "s2_1 = Shape([line33])\n",
        "obstacle.add_shape(s2_1)\n",
        "line34 = Line((x - 160)**2 + (y-23)**2 - 14**2,\"g\")\n",
        "line35 = Line((x - 160)**2 + (y-23)**2 - 23**2,\"l\")\n",
        "line36 = Line(y-23,\"g\")\n",
        "line37 = Line(x-158,\"l\")\n",
        "s2_2 = Shape([line34,line35,line36,line37])\n",
        "obstacle.add_shape(s2_2)\n",
        "line38 = Line((x - 159)**2 + (y-41)**2 - 4.5**2,\"l\")\n",
        "s2_3 = Shape([line38])\n",
        "obstacle.add_shape(s2_3)\n",
        "# Defining digit\n",
        "line33w = Line((x-149)**2+(y-21)**2-9**2,\"l\")\n",
        "s2_1w = Shape([line33w])\n",
        "wall.add_shape(s2_1w)\n",
        "line34w = Line((x - 160)**2 + (y-23)**2 - 16**2,\"g\")\n",
        "line35w = Line((x - 160)**2 + (y-23)**2 - 21**2,\"l\")\n",
        "s2_2w = Shape([line34w,line35w,line36,line37])\n",
        "wall.add_shape(s2_2w)\n",
        "line38w= Line((x - 159)**2 + (y-41)**2 - 2.5**2,\"l\")\n",
        "s2_3w = Shape([line38w])\n",
        "wall.add_shape(s2_3w)\n",
        "\n",
        "# Digit 1\n",
        "# Defining clearance boundary\n",
        "line39 = Line(x-165,\"g\")\n",
        "line40 = Line(x-174,\"l\")\n",
        "line41 = Line(y - 40,\"l\")\n",
        "o_1 = Shape([line39,line40,lower_line,line41])\n",
        "obstacle.add_shape(o_1)\n",
        "# Defining digit\n",
        "wall.add_shape(get_shape_offset(o_1))"
      ],
      "metadata": {
        "id": "qcd8-yHeWgHC"
      },
      "execution_count": null,
      "outputs": []
    },
    {
      "cell_type": "code",
      "source": [
        "# class to define node\n",
        "class Node():\n",
        "  def __init__(self,value:tuple,parent_node,cost_from_parent,goal_state=None):\n",
        "    self.value = self.process_value(value)\n",
        "    self.parent_node = parent_node\n",
        "    self.cost_from_parent = cost_from_parent\n",
        "    self.goal_state = np.array(goal_state) if (not isinstance(self.parent_node,Node)) else self.parent_node.goal_state\n",
        "    self.cost_to_come = self.cost_from_parent + (self.parent_node.cost_to_come if isinstance(self.parent_node,Node) else 0)\n",
        "    self.estimated_cost_to_go = np.linalg.norm(self.value[:2] - self.goal_state[:2])\n",
        "    self.total_cost = self.cost_to_come + self.estimated_cost_to_go\n",
        "\n",
        "  # __hash__ function to enable adding in set\n",
        "  def __hash__(self) -> int:\n",
        "    return hash(self.value)\n",
        "\n",
        "  # __repr__ function to define action for print()\n",
        "  def __repr__(self) -> str:\n",
        "    return str(self.value)\n",
        "\n",
        "  # __eq__ to define == behaviour\n",
        "  def __eq__(self,__o:object):\n",
        "    if isinstance(__o,Node):\n",
        "      return np.all(self.value == __o.value).all()\n",
        "    elif __o == None:\n",
        "      return self.value == None\n",
        "    else:\n",
        "      return np.all(self.value == __o).all()\n",
        "\n",
        "  # __lt__ to define < behaviour\n",
        "  def __lt__(self,__o:object):\n",
        "    return self.total_cost < __o.total_cost\n",
        "\n",
        "  @staticmethod\n",
        "  def process_value(value):\n",
        "    return (Node.__simplify(value[0],linear_threshold),Node.__simplify(value[1],linear_threshold),Node.__simplify(value[2],angular_threshold))\n",
        "\n",
        "  @staticmethod\n",
        "  def __simplify(val,threshold):\n",
        "    return val//threshold * threshold\n",
        "\n",
        "  # Function to backtrack path to the initial node\n",
        "  def backtrack(self):\n",
        "    path = [self]\n",
        "    curr_node = self.parent_node\n",
        "    while curr_node != None:\n",
        "      path.append(curr_node)\n",
        "      curr_node = curr_node.parent_node\n",
        "    return path[::-1] # Return path from initial node to goal node"
      ],
      "metadata": {
        "id": "FZiyowo_kMSI"
      },
      "execution_count": null,
      "outputs": []
    },
    {
      "cell_type": "code",
      "source": [
        "# Function to expand node\n",
        "def expand_node(node:Node,length):\n",
        "  x,y,theta = node.value\n",
        "  L = length\n",
        "  child_nodes = []\n",
        "  for diff in [-60,-30,0,30,60]:\n",
        "    angle = np.deg2rad(theta + diff)\n",
        "    child_nodes.append(Node((x + L*np.cos(angle),y + L*np.sin(angle),theta + diff),node,1))\n",
        "  return child_nodes"
      ],
      "metadata": {
        "id": "PCT0kooKTdE5"
      },
      "execution_count": null,
      "outputs": []
    },
    {
      "cell_type": "code",
      "source": [
        "def scale(image,scalex,scaley):\n",
        "  return np.repeat(np.repeat(image,scalex,axis=1),scaley,axis=0)"
      ],
      "metadata": {
        "id": "HPWKp5Ir9owv"
      },
      "execution_count": null,
      "outputs": []
    },
    {
      "cell_type": "code",
      "source": [
        "# Drawing thr grid\n",
        "image = np.full((height,width,3),BACKGROUND_COLOR)\n",
        "for row in range(height):\n",
        "  for column in range(width):\n",
        "    if wall.check_point_inside_shape_collection([column,row]): # Check if point is inside any letter/digit\n",
        "      image[row][column] = WALL_COLOR # color as wall color\n",
        "    elif obstacle.check_point_inside_shape_collection([column,row]): # Check if point is in clearance distance\n",
        "      image[row][column] = OBSTACLE_COLOR # color as obstacle color\n",
        "#image[goal_state[1]][goal_state[0]] = GOAL_NODE_COLOR # color goal node\n",
        "#image[initial_state[1]][initial_state[0]] = INITIAL_NODE_COLOR # coloe initial node\n",
        "image = scale(image,3,3)\n",
        "image = np.pad(image,((50-5,50-5),(10-5,50-5),(0,0)),mode=\"edge\")\n",
        "image = cv2.copyMakeBorder(image, 5, 5, 5, 5, cv2.BORDER_CONSTANT, value=OBSTACLE_COLOR)"
      ],
      "metadata": {
        "id": "5bYkf6JXTRIO"
      },
      "execution_count": null,
      "outputs": []
    },
    {
      "cell_type": "code",
      "source": [
        "# Getting start point inputs from user\n",
        "start_point = input(\"Enter initial coordinates in form x,y,theta:\")\n",
        "start_point = np.array(start_point.split(\",\"),dtype=np.int32)\n",
        "# Loop until correct input is received\n",
        "while np.all(image[start_point[1],start_point[0]] == OBSTACLE_COLOR) or np.all(image[start_point[1],start_point[0]] == WALL_COLOR) or start_point[0] >= 600 or start_point[1] >= 250:\n",
        "  print(\"Point inside obstacle space, please chose different starting point\")\n",
        "  start_point = input(\"Enter initial coordinates in form x,y,theta:\")\n",
        "  start_point = np.array(start_point.split(\",\"),dtype=np.int32)\n",
        "# Get end point inputs from user\n",
        "end_point = input(\"Enter goal coordinates in form x,y,theta:\")\n",
        "end_point = np.array(end_point.split(\",\"),dtype=np.int32)\n",
        "# Loop until correct input is received\n",
        "while np.all(image[end_point[1],end_point[0]] == OBSTACLE_COLOR) or np.all(image[end_point[1],end_point[0]] == WALL_COLOR) or end_point[0] >= 600 or end_point[1] >= 250:\n",
        "  print(\"End inside obstacle space, please chose different starting point\")\n",
        "  end_point = input(\"Enter goal coordinates in form x,y,theta:\")\n",
        "  end_point = np.array(end_point.split(\",\"),dtype=np.int32)\n",
        "magnitude = int(input(\"Enter length of vector\"))\n",
        "while not 1 <= magnitude <= 10:\n",
        "  print(\"Maginitude value should be a value between 1 and 10\")\n",
        "  magnitude = int(input(\"Enter length of vector\"))"
      ],
      "metadata": {
        "colab": {
          "base_uri": "https://localhost:8080/"
        },
        "id": "SjDfErHtU8BM",
        "outputId": "b31212dc-66a0-4c94-ba74-3eba94c069e2"
      },
      "execution_count": null,
      "outputs": [
        {
          "name": "stdout",
          "output_type": "stream",
          "text": [
            "Enter initial coordinates in form x,y,theta:7,7,0\n",
            "Enter goal coordinates in form x,y,theta:500,230,0\n",
            "Enter length of vector5\n"
          ]
        }
      ]
    },
    {
      "cell_type": "code",
      "source": [
        "initial_state= tuple(start_point)\n",
        "goal_state = Node.process_value(value=end_point)\n",
        "initial_node = Node(initial_state,None,0,goal_state)"
      ],
      "metadata": {
        "id": "LEESG7ZJ42_v"
      },
      "execution_count": null,
      "outputs": []
    },
    {
      "cell_type": "code",
      "source": [
        "# Function colour node with specified color\n",
        "def color_node(node,image,color):\n",
        "  if node in [initial_state,goal_state]: # Condition to check given node is not initial or end node\n",
        "    return image # return as is as we dont intend to change colors of start and end points\n",
        "  r,c = node.value\n",
        "  image[c][r] = color\n",
        "  return image"
      ],
      "metadata": {
        "id": "P_rt-ZMvpYu7"
      },
      "execution_count": null,
      "outputs": []
    },
    {
      "cell_type": "code",
      "source": [
        "# Define closed list as set and open list as priority queue\n",
        "closed_list= set()\n",
        "open_list = PriorityQueue()\n",
        "open_list.put((initial_node))"
      ],
      "metadata": {
        "id": "ROtRV7S8VhjN"
      },
      "execution_count": null,
      "outputs": []
    },
    {
      "cell_type": "code",
      "source": [
        "final_path = None\n",
        "frames = []\n",
        "start_time = time.time()\n",
        "while open_list.qsize() > 0:\n",
        "  # Get first element from open list\n",
        "  node = open_list.get()\n",
        "  if node.estimated_cost_to_go < 1.5 : # Check if goal state\n",
        "    final_path = node.backtrack() # Backtrack\n",
        "    # for path_node in final_path[1:-1]:\n",
        "    #   image = color_node(path_node,image,PATH_COLOR).copy() # Color the path\n",
        "    #   frames.append(np.flipud(image))\n",
        "    break\n",
        "  # Get child nodes\n",
        "  child_nodes = expand_node(node,magnitude)\n",
        "  closed_list.add(node) # Add expanded node to closed list\n",
        "  #image = color_node(node,image,CLOSED_NODE_COLOR).copy() # Update color of closed node\n",
        "  for n in child_nodes: # Loop through all chil nodes\n",
        "    if n in closed_list or np.all(image[int(n.value[1])][int(n.value[0])] == OBSTACLE_COLOR) or np.all(image[int(n.value[1])][int(n.value[0])] == WALL_COLOR): # Check if node is obstacle\n",
        "      continue\n",
        "    else:\n",
        "      #image = color_node(n,image,OPEN_NODE_COLOR).copy() # Update color of node\n",
        "      if n in open_list.queue: # Check if node is in open list\n",
        "        node_in_open_list = open_list.queue[open_list.queue.index(n)]\n",
        "        if node_in_open_list.total_cost > n.total_cost: # Update node in open list based on node which has least cost to come\n",
        "          open_list.queue.remove(node_in_open_list)\n",
        "          open_list.put((n)) # Add node to open list\n",
        "      else:\n",
        "        open_list.put((n)) # Add node to open list\n",
        "  #frames.append(np.flipud(image))\n",
        "print(\"Total time to find path:\",time.time() - start_time)"
      ],
      "metadata": {
        "id": "bHUD5koFNRBW",
        "colab": {
          "base_uri": "https://localhost:8080/"
        },
        "outputId": "bcb50be3-2bad-465b-c4c1-adcde463f174"
      },
      "execution_count": null,
      "outputs": [
        {
          "output_type": "stream",
          "name": "stdout",
          "text": [
            "Total time to find path: 0.7599735260009766\n"
          ]
        }
      ]
    },
    {
      "cell_type": "code",
      "source": [
        "fig, ax = plt.subplots()\n",
        "# for b in closed_list:\n",
        "#   if b.parent_node != None:\n",
        "#     ax.quiver(b.parent_node.value[0], b.parent_node.value[1], b.value[0] - b.parent_node.value[0],b.value[1] - b.parent_node.value[1],scale_units=\"xy\",scale=1,color=\"red\")\n",
        "# for b in open_list.queue:\n",
        "#   if b.parent_node != None:\n",
        "#     ax.quiver(b.parent_node.value[0], b.parent_node.value[1], b.value[0] - b.parent_node.value[0],b.value[1] - b.parent_node.value[1],scale_units=\"xy\",scale=1,color=\"blue\")\n",
        "for b in final_path[1:]:\n",
        "  ax.quiver(b.parent_node.value[0], b.parent_node.value[1], b.value[0] - b.parent_node.value[0],b.value[1] - b.parent_node.value[1],scale_units=\"xy\",scale=1)\n",
        "ax.set_aspect('equal')\n",
        "plt.imshow(image,origin=\"lower\")"
      ],
      "metadata": {
        "colab": {
          "base_uri": "https://localhost:8080/",
          "height": 284
        },
        "id": "ifV17B7rx1H-",
        "outputId": "b8fd6540-9f1b-45ef-e1e4-3cf5b430c9a3"
      },
      "execution_count": null,
      "outputs": [
        {
          "output_type": "execute_result",
          "data": {
            "text/plain": [
              "<matplotlib.image.AxesImage at 0x79c6afb45750>"
            ]
          },
          "metadata": {},
          "execution_count": 537
        },
        {
          "output_type": "display_data",
          "data": {
            "text/plain": [
              "<Figure size 640x480 with 1 Axes>"
            ],
            "image/png": "[encoded data removed]"
          },
          "metadata": {}
        }
      ]
    },
    {
      "cell_type": "code",
      "source": [
        "# Save image of path found\n",
        "plt.imsave(f\"solution_a*.jpg\",frames[-1].astype(np.uint8))"
      ],
      "metadata": {
        "id": "pB76FJLIhwz6"
      },
      "execution_count": null,
      "outputs": []
    },
    {
      "cell_type": "code",
      "source": [
        "# Generate video\n",
        "clip = ImageSequenceClip(frames, fps=24)\n",
        "clip.write_videofile(f'output_astar.mp4')"
      ],
      "metadata": {
        "id": "ppqCUcRiM6lY",
        "colab": {
          "base_uri": "https://localhost:8080/"
        },
        "outputId": "ee9d5346-7da0-483e-b754-3d9a41bb6707"
      },
      "execution_count": null,
      "outputs": [
        {
          "output_type": "stream",
          "name": "stdout",
          "text": [
            "Moviepy - Building video output_astar.mp4.\n",
            "Moviepy - Writing video output_astar.mp4\n",
            "\n"
          ]
        },
        {
          "output_type": "stream",
          "name": "stderr",
          "text": [
            "                                                                  "
          ]
        },
        {
          "output_type": "stream",
          "name": "stdout",
          "text": [
            "Moviepy - Done !\n",
            "Moviepy - video ready output_astar.mp4\n"
          ]
        },
        {
          "output_type": "stream",
          "name": "stderr",
          "text": [
            "\r"
          ]
        }
      ]
    },
    {
      "cell_type": "code",
      "source": [],
      "metadata": {
        "id": "_zsS1nrv62H_"
      },
      "execution_count": null,
      "outputs": []
    }
  ]
}